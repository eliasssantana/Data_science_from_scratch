{
  "nbformat": 4,
  "nbformat_minor": 0,
  "metadata": {
    "colab": {
      "provenance": [],
      "authorship_tag": "ABX9TyPHMLbE2cgpouYq2sfbgc5v",
      "include_colab_link": true
    },
    "kernelspec": {
      "name": "python3",
      "display_name": "Python 3"
    },
    "language_info": {
      "name": "python"
    }
  },
  "cells": [
    {
      "cell_type": "markdown",
      "metadata": {
        "id": "view-in-github",
        "colab_type": "text"
      },
      "source": [
        "<a href=\"https://colab.research.google.com/github/eliasssantana/Data_science_from_scratch/blob/main/Data_science.ipynb\" target=\"_parent\"><img src=\"https://colab.research.google.com/assets/colab-badge.svg\" alt=\"Open In Colab\"/></a>"
      ]
    },
    {
      "cell_type": "markdown",
      "source": [
        "#DataSciencester"
      ],
      "metadata": {
        "id": "1FjzPL-nA7_w"
      }
    },
    {
      "cell_type": "code",
      "source": [
        "users = [{\"id\": 0, \"name\": \"Hero\"},\n",
        "        {\"id\": 1, \"name\": \"Dunn\"},\n",
        "        {\"id\": 2, \"name\": \"Sue\"},\n",
        "        {\"id\": 3, \"name\": \"Chi\"},\n",
        "        {\"id\": 4, \"name\": \"Thor\"},\n",
        "        {\"id\": 5, \"name\": \"Clive\"},\n",
        "        {\"id\": 6, \"name\": \"Hicks\"},\n",
        "        {\"id\": 7, \"name\": \"Devin\"},\n",
        "        {\"id\": 8, \"name\": \"kate\"},\n",
        "        {\"id\": 9, \"name\": \"Klein\"}]"
      ],
      "metadata": {
        "id": "LvSYUkCIBE1t"
      },
      "execution_count": 2,
      "outputs": []
    },
    {
      "cell_type": "code",
      "source": [
        "friendships = [(0,1),(0,2),(1,2),(1,3),(2,3),(3,4),\n",
        "              (4,5),(5,6),(5,7),(6,8),(7,8),(8,9)]"
      ],
      "metadata": {
        "id": "C6_y1ckyB5S4"
      },
      "execution_count": 3,
      "outputs": []
    },
    {
      "cell_type": "code",
      "source": [
        "for user in users:\n",
        "  user[\"friends\"] = []"
      ],
      "metadata": {
        "id": "NbolB-XbCUnp"
      },
      "execution_count": 8,
      "outputs": []
    },
    {
      "cell_type": "code",
      "source": [
        "for i,j in friendships:\n",
        "  print(i, j)\n",
        "  #isso funciona porque users[i] é o usuário cujo id é i\n",
        "  users[i][\"friends\"].append(users[j]) #adiciona i como um amigo de j\n",
        "  users[j][\"friends\"].append(users[i]) #adiciona j como um amigo de i"
      ],
      "metadata": {
        "id": "FMQ3x_xsCfiV",
        "colab": {
          "base_uri": "https://localhost:8080/"
        },
        "outputId": "354bd1e9-802e-4628-f1b2-5249d19aa2ce"
      },
      "execution_count": 10,
      "outputs": [
        {
          "output_type": "stream",
          "name": "stdout",
          "text": [
            "0 1\n",
            "0 2\n",
            "1 2\n",
            "1 3\n",
            "2 3\n",
            "3 4\n",
            "4 5\n",
            "5 6\n",
            "5 7\n",
            "6 8\n",
            "7 8\n",
            "8 9\n"
          ]
        }
      ]
    },
    {
      "cell_type": "code",
      "source": [
        "print(users)"
      ],
      "metadata": {
        "colab": {
          "base_uri": "https://localhost:8080/"
        },
        "id": "FyX5awGtDete",
        "outputId": "26dcc5e4-c769-4694-ef5b-b7efb7e25d70"
      },
      "execution_count": 11,
      "outputs": [
        {
          "output_type": "stream",
          "name": "stdout",
          "text": [
            "[{'id': 0, 'name': 'Hero', 'friends': [{'id': 1, 'name': 'Dunn', 'friends': [{...}, {'id': 2, 'name': 'Sue', 'friends': [{...}, {...}, {'id': 3, 'name': 'Chi', 'friends': [{...}, {...}, {'id': 4, 'name': 'Thor', 'friends': [{...}, {'id': 5, 'name': 'Clive', 'friends': [{...}, {'id': 6, 'name': 'Hicks', 'friends': [{...}, {'id': 8, 'name': 'kate', 'friends': [{...}, {'id': 7, 'name': 'Devin', 'friends': [{...}, {...}]}, {'id': 9, 'name': 'Klein', 'friends': [{...}]}]}]}, {'id': 7, 'name': 'Devin', 'friends': [{...}, {'id': 8, 'name': 'kate', 'friends': [{'id': 6, 'name': 'Hicks', 'friends': [{...}, {...}]}, {...}, {'id': 9, 'name': 'Klein', 'friends': [{...}]}]}]}]}]}]}]}, {'id': 3, 'name': 'Chi', 'friends': [{...}, {'id': 2, 'name': 'Sue', 'friends': [{...}, {...}, {...}]}, {'id': 4, 'name': 'Thor', 'friends': [{...}, {'id': 5, 'name': 'Clive', 'friends': [{...}, {'id': 6, 'name': 'Hicks', 'friends': [{...}, {'id': 8, 'name': 'kate', 'friends': [{...}, {'id': 7, 'name': 'Devin', 'friends': [{...}, {...}]}, {'id': 9, 'name': 'Klein', 'friends': [{...}]}]}]}, {'id': 7, 'name': 'Devin', 'friends': [{...}, {'id': 8, 'name': 'kate', 'friends': [{'id': 6, 'name': 'Hicks', 'friends': [{...}, {...}]}, {...}, {'id': 9, 'name': 'Klein', 'friends': [{...}]}]}]}]}]}]}]}, {'id': 2, 'name': 'Sue', 'friends': [{...}, {'id': 1, 'name': 'Dunn', 'friends': [{...}, {...}, {'id': 3, 'name': 'Chi', 'friends': [{...}, {...}, {'id': 4, 'name': 'Thor', 'friends': [{...}, {'id': 5, 'name': 'Clive', 'friends': [{...}, {'id': 6, 'name': 'Hicks', 'friends': [{...}, {'id': 8, 'name': 'kate', 'friends': [{...}, {'id': 7, 'name': 'Devin', 'friends': [{...}, {...}]}, {'id': 9, 'name': 'Klein', 'friends': [{...}]}]}]}, {'id': 7, 'name': 'Devin', 'friends': [{...}, {'id': 8, 'name': 'kate', 'friends': [{'id': 6, 'name': 'Hicks', 'friends': [{...}, {...}]}, {...}, {'id': 9, 'name': 'Klein', 'friends': [{...}]}]}]}]}]}]}]}, {'id': 3, 'name': 'Chi', 'friends': [{'id': 1, 'name': 'Dunn', 'friends': [{...}, {...}, {...}]}, {...}, {'id': 4, 'name': 'Thor', 'friends': [{...}, {'id': 5, 'name': 'Clive', 'friends': [{...}, {'id': 6, 'name': 'Hicks', 'friends': [{...}, {'id': 8, 'name': 'kate', 'friends': [{...}, {'id': 7, 'name': 'Devin', 'friends': [{...}, {...}]}, {'id': 9, 'name': 'Klein', 'friends': [{...}]}]}]}, {'id': 7, 'name': 'Devin', 'friends': [{...}, {'id': 8, 'name': 'kate', 'friends': [{'id': 6, 'name': 'Hicks', 'friends': [{...}, {...}]}, {...}, {'id': 9, 'name': 'Klein', 'friends': [{...}]}]}]}]}]}]}]}]}, {'id': 1, 'name': 'Dunn', 'friends': [{'id': 0, 'name': 'Hero', 'friends': [{...}, {'id': 2, 'name': 'Sue', 'friends': [{...}, {...}, {'id': 3, 'name': 'Chi', 'friends': [{...}, {...}, {'id': 4, 'name': 'Thor', 'friends': [{...}, {'id': 5, 'name': 'Clive', 'friends': [{...}, {'id': 6, 'name': 'Hicks', 'friends': [{...}, {'id': 8, 'name': 'kate', 'friends': [{...}, {'id': 7, 'name': 'Devin', 'friends': [{...}, {...}]}, {'id': 9, 'name': 'Klein', 'friends': [{...}]}]}]}, {'id': 7, 'name': 'Devin', 'friends': [{...}, {'id': 8, 'name': 'kate', 'friends': [{'id': 6, 'name': 'Hicks', 'friends': [{...}, {...}]}, {...}, {'id': 9, 'name': 'Klein', 'friends': [{...}]}]}]}]}]}]}]}]}, {'id': 2, 'name': 'Sue', 'friends': [{'id': 0, 'name': 'Hero', 'friends': [{...}, {...}]}, {...}, {'id': 3, 'name': 'Chi', 'friends': [{...}, {...}, {'id': 4, 'name': 'Thor', 'friends': [{...}, {'id': 5, 'name': 'Clive', 'friends': [{...}, {'id': 6, 'name': 'Hicks', 'friends': [{...}, {'id': 8, 'name': 'kate', 'friends': [{...}, {'id': 7, 'name': 'Devin', 'friends': [{...}, {...}]}, {'id': 9, 'name': 'Klein', 'friends': [{...}]}]}]}, {'id': 7, 'name': 'Devin', 'friends': [{...}, {'id': 8, 'name': 'kate', 'friends': [{'id': 6, 'name': 'Hicks', 'friends': [{...}, {...}]}, {...}, {'id': 9, 'name': 'Klein', 'friends': [{...}]}]}]}]}]}]}]}, {'id': 3, 'name': 'Chi', 'friends': [{...}, {'id': 2, 'name': 'Sue', 'friends': [{'id': 0, 'name': 'Hero', 'friends': [{...}, {...}]}, {...}, {...}]}, {'id': 4, 'name': 'Thor', 'friends': [{...}, {'id': 5, 'name': 'Clive', 'friends': [{...}, {'id': 6, 'name': 'Hicks', 'friends': [{...}, {'id': 8, 'name': 'kate', 'friends': [{...}, {'id': 7, 'name': 'Devin', 'friends': [{...}, {...}]}, {'id': 9, 'name': 'Klein', 'friends': [{...}]}]}]}, {'id': 7, 'name': 'Devin', 'friends': [{...}, {'id': 8, 'name': 'kate', 'friends': [{'id': 6, 'name': 'Hicks', 'friends': [{...}, {...}]}, {...}, {'id': 9, 'name': 'Klein', 'friends': [{...}]}]}]}]}]}]}]}, {'id': 2, 'name': 'Sue', 'friends': [{'id': 0, 'name': 'Hero', 'friends': [{'id': 1, 'name': 'Dunn', 'friends': [{...}, {...}, {'id': 3, 'name': 'Chi', 'friends': [{...}, {...}, {'id': 4, 'name': 'Thor', 'friends': [{...}, {'id': 5, 'name': 'Clive', 'friends': [{...}, {'id': 6, 'name': 'Hicks', 'friends': [{...}, {'id': 8, 'name': 'kate', 'friends': [{...}, {'id': 7, 'name': 'Devin', 'friends': [{...}, {...}]}, {'id': 9, 'name': 'Klein', 'friends': [{...}]}]}]}, {'id': 7, 'name': 'Devin', 'friends': [{...}, {'id': 8, 'name': 'kate', 'friends': [{'id': 6, 'name': 'Hicks', 'friends': [{...}, {...}]}, {...}, {'id': 9, 'name': 'Klein', 'friends': [{...}]}]}]}]}]}]}]}, {...}]}, {'id': 1, 'name': 'Dunn', 'friends': [{'id': 0, 'name': 'Hero', 'friends': [{...}, {...}]}, {...}, {'id': 3, 'name': 'Chi', 'friends': [{...}, {...}, {'id': 4, 'name': 'Thor', 'friends': [{...}, {'id': 5, 'name': 'Clive', 'friends': [{...}, {'id': 6, 'name': 'Hicks', 'friends': [{...}, {'id': 8, 'name': 'kate', 'friends': [{...}, {'id': 7, 'name': 'Devin', 'friends': [{...}, {...}]}, {'id': 9, 'name': 'Klein', 'friends': [{...}]}]}]}, {'id': 7, 'name': 'Devin', 'friends': [{...}, {'id': 8, 'name': 'kate', 'friends': [{'id': 6, 'name': 'Hicks', 'friends': [{...}, {...}]}, {...}, {'id': 9, 'name': 'Klein', 'friends': [{...}]}]}]}]}]}]}]}, {'id': 3, 'name': 'Chi', 'friends': [{'id': 1, 'name': 'Dunn', 'friends': [{'id': 0, 'name': 'Hero', 'friends': [{...}, {...}]}, {...}, {...}]}, {...}, {'id': 4, 'name': 'Thor', 'friends': [{...}, {'id': 5, 'name': 'Clive', 'friends': [{...}, {'id': 6, 'name': 'Hicks', 'friends': [{...}, {'id': 8, 'name': 'kate', 'friends': [{...}, {'id': 7, 'name': 'Devin', 'friends': [{...}, {...}]}, {'id': 9, 'name': 'Klein', 'friends': [{...}]}]}]}, {'id': 7, 'name': 'Devin', 'friends': [{...}, {'id': 8, 'name': 'kate', 'friends': [{'id': 6, 'name': 'Hicks', 'friends': [{...}, {...}]}, {...}, {'id': 9, 'name': 'Klein', 'friends': [{...}]}]}]}]}]}]}]}, {'id': 3, 'name': 'Chi', 'friends': [{'id': 1, 'name': 'Dunn', 'friends': [{'id': 0, 'name': 'Hero', 'friends': [{...}, {'id': 2, 'name': 'Sue', 'friends': [{...}, {...}, {...}]}]}, {'id': 2, 'name': 'Sue', 'friends': [{'id': 0, 'name': 'Hero', 'friends': [{...}, {...}]}, {...}, {...}]}, {...}]}, {'id': 2, 'name': 'Sue', 'friends': [{'id': 0, 'name': 'Hero', 'friends': [{'id': 1, 'name': 'Dunn', 'friends': [{...}, {...}, {...}]}, {...}]}, {'id': 1, 'name': 'Dunn', 'friends': [{'id': 0, 'name': 'Hero', 'friends': [{...}, {...}]}, {...}, {...}]}, {...}]}, {'id': 4, 'name': 'Thor', 'friends': [{...}, {'id': 5, 'name': 'Clive', 'friends': [{...}, {'id': 6, 'name': 'Hicks', 'friends': [{...}, {'id': 8, 'name': 'kate', 'friends': [{...}, {'id': 7, 'name': 'Devin', 'friends': [{...}, {...}]}, {'id': 9, 'name': 'Klein', 'friends': [{...}]}]}]}, {'id': 7, 'name': 'Devin', 'friends': [{...}, {'id': 8, 'name': 'kate', 'friends': [{'id': 6, 'name': 'Hicks', 'friends': [{...}, {...}]}, {...}, {'id': 9, 'name': 'Klein', 'friends': [{...}]}]}]}]}]}]}, {'id': 4, 'name': 'Thor', 'friends': [{'id': 3, 'name': 'Chi', 'friends': [{'id': 1, 'name': 'Dunn', 'friends': [{'id': 0, 'name': 'Hero', 'friends': [{...}, {'id': 2, 'name': 'Sue', 'friends': [{...}, {...}, {...}]}]}, {'id': 2, 'name': 'Sue', 'friends': [{'id': 0, 'name': 'Hero', 'friends': [{...}, {...}]}, {...}, {...}]}, {...}]}, {'id': 2, 'name': 'Sue', 'friends': [{'id': 0, 'name': 'Hero', 'friends': [{'id': 1, 'name': 'Dunn', 'friends': [{...}, {...}, {...}]}, {...}]}, {'id': 1, 'name': 'Dunn', 'friends': [{'id': 0, 'name': 'Hero', 'friends': [{...}, {...}]}, {...}, {...}]}, {...}]}, {...}]}, {'id': 5, 'name': 'Clive', 'friends': [{...}, {'id': 6, 'name': 'Hicks', 'friends': [{...}, {'id': 8, 'name': 'kate', 'friends': [{...}, {'id': 7, 'name': 'Devin', 'friends': [{...}, {...}]}, {'id': 9, 'name': 'Klein', 'friends': [{...}]}]}]}, {'id': 7, 'name': 'Devin', 'friends': [{...}, {'id': 8, 'name': 'kate', 'friends': [{'id': 6, 'name': 'Hicks', 'friends': [{...}, {...}]}, {...}, {'id': 9, 'name': 'Klein', 'friends': [{...}]}]}]}]}]}, {'id': 5, 'name': 'Clive', 'friends': [{'id': 4, 'name': 'Thor', 'friends': [{'id': 3, 'name': 'Chi', 'friends': [{'id': 1, 'name': 'Dunn', 'friends': [{'id': 0, 'name': 'Hero', 'friends': [{...}, {'id': 2, 'name': 'Sue', 'friends': [{...}, {...}, {...}]}]}, {'id': 2, 'name': 'Sue', 'friends': [{'id': 0, 'name': 'Hero', 'friends': [{...}, {...}]}, {...}, {...}]}, {...}]}, {'id': 2, 'name': 'Sue', 'friends': [{'id': 0, 'name': 'Hero', 'friends': [{'id': 1, 'name': 'Dunn', 'friends': [{...}, {...}, {...}]}, {...}]}, {'id': 1, 'name': 'Dunn', 'friends': [{'id': 0, 'name': 'Hero', 'friends': [{...}, {...}]}, {...}, {...}]}, {...}]}, {...}]}, {...}]}, {'id': 6, 'name': 'Hicks', 'friends': [{...}, {'id': 8, 'name': 'kate', 'friends': [{...}, {'id': 7, 'name': 'Devin', 'friends': [{...}, {...}]}, {'id': 9, 'name': 'Klein', 'friends': [{...}]}]}]}, {'id': 7, 'name': 'Devin', 'friends': [{...}, {'id': 8, 'name': 'kate', 'friends': [{'id': 6, 'name': 'Hicks', 'friends': [{...}, {...}]}, {...}, {'id': 9, 'name': 'Klein', 'friends': [{...}]}]}]}]}, {'id': 6, 'name': 'Hicks', 'friends': [{'id': 5, 'name': 'Clive', 'friends': [{'id': 4, 'name': 'Thor', 'friends': [{'id': 3, 'name': 'Chi', 'friends': [{'id': 1, 'name': 'Dunn', 'friends': [{'id': 0, 'name': 'Hero', 'friends': [{...}, {'id': 2, 'name': 'Sue', 'friends': [{...}, {...}, {...}]}]}, {'id': 2, 'name': 'Sue', 'friends': [{'id': 0, 'name': 'Hero', 'friends': [{...}, {...}]}, {...}, {...}]}, {...}]}, {'id': 2, 'name': 'Sue', 'friends': [{'id': 0, 'name': 'Hero', 'friends': [{'id': 1, 'name': 'Dunn', 'friends': [{...}, {...}, {...}]}, {...}]}, {'id': 1, 'name': 'Dunn', 'friends': [{'id': 0, 'name': 'Hero', 'friends': [{...}, {...}]}, {...}, {...}]}, {...}]}, {...}]}, {...}]}, {...}, {'id': 7, 'name': 'Devin', 'friends': [{...}, {'id': 8, 'name': 'kate', 'friends': [{...}, {...}, {'id': 9, 'name': 'Klein', 'friends': [{...}]}]}]}]}, {'id': 8, 'name': 'kate', 'friends': [{...}, {'id': 7, 'name': 'Devin', 'friends': [{'id': 5, 'name': 'Clive', 'friends': [{'id': 4, 'name': 'Thor', 'friends': [{'id': 3, 'name': 'Chi', 'friends': [{'id': 1, 'name': 'Dunn', 'friends': [{'id': 0, 'name': 'Hero', 'friends': [{...}, {'id': 2, 'name': 'Sue', 'friends': [{...}, {...}, {...}]}]}, {'id': 2, 'name': 'Sue', 'friends': [{'id': 0, 'name': 'Hero', 'friends': [{...}, {...}]}, {...}, {...}]}, {...}]}, {'id': 2, 'name': 'Sue', 'friends': [{'id': 0, 'name': 'Hero', 'friends': [{'id': 1, 'name': 'Dunn', 'friends': [{...}, {...}, {...}]}, {...}]}, {'id': 1, 'name': 'Dunn', 'friends': [{'id': 0, 'name': 'Hero', 'friends': [{...}, {...}]}, {...}, {...}]}, {...}]}, {...}]}, {...}]}, {...}, {...}]}, {...}]}, {'id': 9, 'name': 'Klein', 'friends': [{...}]}]}]}, {'id': 7, 'name': 'Devin', 'friends': [{'id': 5, 'name': 'Clive', 'friends': [{'id': 4, 'name': 'Thor', 'friends': [{'id': 3, 'name': 'Chi', 'friends': [{'id': 1, 'name': 'Dunn', 'friends': [{'id': 0, 'name': 'Hero', 'friends': [{...}, {'id': 2, 'name': 'Sue', 'friends': [{...}, {...}, {...}]}]}, {'id': 2, 'name': 'Sue', 'friends': [{'id': 0, 'name': 'Hero', 'friends': [{...}, {...}]}, {...}, {...}]}, {...}]}, {'id': 2, 'name': 'Sue', 'friends': [{'id': 0, 'name': 'Hero', 'friends': [{'id': 1, 'name': 'Dunn', 'friends': [{...}, {...}, {...}]}, {...}]}, {'id': 1, 'name': 'Dunn', 'friends': [{'id': 0, 'name': 'Hero', 'friends': [{...}, {...}]}, {...}, {...}]}, {...}]}, {...}]}, {...}]}, {'id': 6, 'name': 'Hicks', 'friends': [{...}, {'id': 8, 'name': 'kate', 'friends': [{...}, {...}, {'id': 9, 'name': 'Klein', 'friends': [{...}]}]}]}, {...}]}, {'id': 8, 'name': 'kate', 'friends': [{'id': 6, 'name': 'Hicks', 'friends': [{'id': 5, 'name': 'Clive', 'friends': [{'id': 4, 'name': 'Thor', 'friends': [{'id': 3, 'name': 'Chi', 'friends': [{'id': 1, 'name': 'Dunn', 'friends': [{'id': 0, 'name': 'Hero', 'friends': [{...}, {'id': 2, 'name': 'Sue', 'friends': [{...}, {...}, {...}]}]}, {'id': 2, 'name': 'Sue', 'friends': [{'id': 0, 'name': 'Hero', 'friends': [{...}, {...}]}, {...}, {...}]}, {...}]}, {'id': 2, 'name': 'Sue', 'friends': [{'id': 0, 'name': 'Hero', 'friends': [{'id': 1, 'name': 'Dunn', 'friends': [{...}, {...}, {...}]}, {...}]}, {'id': 1, 'name': 'Dunn', 'friends': [{'id': 0, 'name': 'Hero', 'friends': [{...}, {...}]}, {...}, {...}]}, {...}]}, {...}]}, {...}]}, {...}, {...}]}, {...}]}, {...}, {'id': 9, 'name': 'Klein', 'friends': [{...}]}]}]}, {'id': 8, 'name': 'kate', 'friends': [{'id': 6, 'name': 'Hicks', 'friends': [{'id': 5, 'name': 'Clive', 'friends': [{'id': 4, 'name': 'Thor', 'friends': [{'id': 3, 'name': 'Chi', 'friends': [{'id': 1, 'name': 'Dunn', 'friends': [{'id': 0, 'name': 'Hero', 'friends': [{...}, {'id': 2, 'name': 'Sue', 'friends': [{...}, {...}, {...}]}]}, {'id': 2, 'name': 'Sue', 'friends': [{'id': 0, 'name': 'Hero', 'friends': [{...}, {...}]}, {...}, {...}]}, {...}]}, {'id': 2, 'name': 'Sue', 'friends': [{'id': 0, 'name': 'Hero', 'friends': [{'id': 1, 'name': 'Dunn', 'friends': [{...}, {...}, {...}]}, {...}]}, {'id': 1, 'name': 'Dunn', 'friends': [{'id': 0, 'name': 'Hero', 'friends': [{...}, {...}]}, {...}, {...}]}, {...}]}, {...}]}, {...}]}, {...}, {'id': 7, 'name': 'Devin', 'friends': [{...}, {...}]}]}, {...}]}, {'id': 7, 'name': 'Devin', 'friends': [{'id': 5, 'name': 'Clive', 'friends': [{'id': 4, 'name': 'Thor', 'friends': [{'id': 3, 'name': 'Chi', 'friends': [{'id': 1, 'name': 'Dunn', 'friends': [{'id': 0, 'name': 'Hero', 'friends': [{...}, {'id': 2, 'name': 'Sue', 'friends': [{...}, {...}, {...}]}]}, {'id': 2, 'name': 'Sue', 'friends': [{'id': 0, 'name': 'Hero', 'friends': [{...}, {...}]}, {...}, {...}]}, {...}]}, {'id': 2, 'name': 'Sue', 'friends': [{'id': 0, 'name': 'Hero', 'friends': [{'id': 1, 'name': 'Dunn', 'friends': [{...}, {...}, {...}]}, {...}]}, {'id': 1, 'name': 'Dunn', 'friends': [{'id': 0, 'name': 'Hero', 'friends': [{...}, {...}]}, {...}, {...}]}, {...}]}, {...}]}, {...}]}, {'id': 6, 'name': 'Hicks', 'friends': [{...}, {...}]}, {...}]}, {...}]}, {'id': 9, 'name': 'Klein', 'friends': [{...}]}]}, {'id': 9, 'name': 'Klein', 'friends': [{'id': 8, 'name': 'kate', 'friends': [{'id': 6, 'name': 'Hicks', 'friends': [{'id': 5, 'name': 'Clive', 'friends': [{'id': 4, 'name': 'Thor', 'friends': [{'id': 3, 'name': 'Chi', 'friends': [{'id': 1, 'name': 'Dunn', 'friends': [{'id': 0, 'name': 'Hero', 'friends': [{...}, {'id': 2, 'name': 'Sue', 'friends': [{...}, {...}, {...}]}]}, {'id': 2, 'name': 'Sue', 'friends': [{'id': 0, 'name': 'Hero', 'friends': [{...}, {...}]}, {...}, {...}]}, {...}]}, {'id': 2, 'name': 'Sue', 'friends': [{'id': 0, 'name': 'Hero', 'friends': [{'id': 1, 'name': 'Dunn', 'friends': [{...}, {...}, {...}]}, {...}]}, {'id': 1, 'name': 'Dunn', 'friends': [{'id': 0, 'name': 'Hero', 'friends': [{...}, {...}]}, {...}, {...}]}, {...}]}, {...}]}, {...}]}, {...}, {'id': 7, 'name': 'Devin', 'friends': [{...}, {...}]}]}, {...}]}, {'id': 7, 'name': 'Devin', 'friends': [{'id': 5, 'name': 'Clive', 'friends': [{'id': 4, 'name': 'Thor', 'friends': [{'id': 3, 'name': 'Chi', 'friends': [{'id': 1, 'name': 'Dunn', 'friends': [{'id': 0, 'name': 'Hero', 'friends': [{...}, {'id': 2, 'name': 'Sue', 'friends': [{...}, {...}, {...}]}]}, {'id': 2, 'name': 'Sue', 'friends': [{'id': 0, 'name': 'Hero', 'friends': [{...}, {...}]}, {...}, {...}]}, {...}]}, {'id': 2, 'name': 'Sue', 'friends': [{'id': 0, 'name': 'Hero', 'friends': [{'id': 1, 'name': 'Dunn', 'friends': [{...}, {...}, {...}]}, {...}]}, {'id': 1, 'name': 'Dunn', 'friends': [{'id': 0, 'name': 'Hero', 'friends': [{...}, {...}]}, {...}, {...}]}, {...}]}, {...}]}, {...}]}, {'id': 6, 'name': 'Hicks', 'friends': [{...}, {...}]}, {...}]}, {...}]}, {...}]}]}]\n"
          ]
        }
      ]
    },
    {
      "cell_type": "code",
      "source": [
        "def number_of_friends(user):\n",
        "  \"\"\"quantos amigos o usuário tem?\"\"\"\n",
        "  return len(user[\"friends\"])  #tamanho da lista de friends_ids\n",
        "\n",
        "total_connections = sum(number_of_friends(user) for user in users)"
      ],
      "metadata": {
        "id": "t65P3vZZD7Ty"
      },
      "execution_count": 13,
      "outputs": []
    },
    {
      "cell_type": "code",
      "source": [
        "from __future__ import division\n",
        "\n",
        "num_users = len(users)      #tamanho da lista de usuários\n",
        "avg_connections = total_connections/num_users #2.4\n",
        "print(num_users)\n",
        "print(avg_connections)"
      ],
      "metadata": {
        "colab": {
          "base_uri": "https://localhost:8080/"
        },
        "id": "s2Tre1YVFQgF",
        "outputId": "c5fcbb48-5051-47d8-e9f2-f42bf73b94b0"
      },
      "execution_count": 14,
      "outputs": [
        {
          "output_type": "stream",
          "name": "stdout",
          "text": [
            "10\n",
            "2.4\n"
          ]
        }
      ]
    },
    {
      "cell_type": "code",
      "source": [
        "# cria uma lista(user_id , number_of_friends)\n",
        "number_friends_by_id = [(user[\"id\"], number_of_friends(user)) for user in users]"
      ],
      "metadata": {
        "id": "XmlY2m6VF9al"
      },
      "execution_count": 18,
      "outputs": []
    },
    {
      "cell_type": "markdown",
      "source": [
        "###Ordenamos de forma decrescente tendo o número de amigos como referência"
      ],
      "metadata": {
        "id": "M6EcDc7YHDPD"
      }
    },
    {
      "cell_type": "code",
      "source": [
        "number_friends_by_id_sorted = sorted(number_friends_by_id,key=lambda user:user[1] , reverse=True)\n",
        "\n",
        "# cada par é (user_id, num_friends)\n",
        "# [(1, 3),\n",
        "# (2, 3),\n",
        "# (3, 3), \n",
        "# (5, 3), \n",
        "# (8, 3), \n",
        "# (0, 2), \n",
        "# (4, 2), \n",
        "# (6, 2), \n",
        "# (7, 2), \n",
        "# (9, 1)]\n",
        "\n",
        "print(number_friends_by_id_sorted)"
      ],
      "metadata": {
        "colab": {
          "base_uri": "https://localhost:8080/"
        },
        "id": "B8pZYpX3Gmmy",
        "outputId": "84a83b2b-cbdd-4448-f526-0799a8e4b4fb"
      },
      "execution_count": 23,
      "outputs": [
        {
          "output_type": "stream",
          "name": "stdout",
          "text": [
            "[(1, 3), (2, 3), (3, 3), (5, 3), (8, 3), (0, 2), (4, 2), (6, 2), (7, 2), (9, 1)]\n"
          ]
        }
      ]
    },
    {
      "cell_type": "markdown",
      "source": [
        "### Definindo Amigos de amigos"
      ],
      "metadata": {
        "id": "fK9V5cKFJZX5"
      }
    },
    {
      "cell_type": "code",
      "source": [
        "def friends_of_friends_ids_bad(user):\n",
        "  # \"foaf\" é a abreviação de \"friend of a friend\"\n",
        "  return [foaf[\"id\"]\n",
        "          for friend in user[\"friends\"] # para cada amigo de usuário\n",
        "          for foaf in friend[\"friends\"] # pega cada amigo dele\n",
        "      \n",
        "  ]\n",
        "\n",
        "print([friend['id'] for friend in users[0][\"friends\"]])\n",
        "print([friend['id'] for friend in users[1][\"friends\"]])\n",
        "print([friend['id'] for friend in users[2][\"friends\"]])"
      ],
      "metadata": {
        "colab": {
          "base_uri": "https://localhost:8080/"
        },
        "id": "uQ7VT2lF_DDv",
        "outputId": "f7f3361d-da02-47df-ed2d-e59526da0b3f"
      },
      "execution_count": 28,
      "outputs": [
        {
          "output_type": "stream",
          "name": "stdout",
          "text": [
            "[1, 2]\n",
            "[0, 2, 3]\n",
            "[0, 1, 3]\n"
          ]
        }
      ]
    },
    {
      "cell_type": "code",
      "source": [
        "from collections import Counter"
      ],
      "metadata": {
        "id": "tQtzjemoB8nT"
      },
      "execution_count": 31,
      "outputs": []
    }
  ]
}